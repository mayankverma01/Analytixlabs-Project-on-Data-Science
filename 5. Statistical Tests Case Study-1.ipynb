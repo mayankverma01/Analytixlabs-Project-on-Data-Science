{
 "cells": [
  {
   "cell_type": "markdown",
   "metadata": {},
   "source": [
    "# Hypothesis Test (cust-seg)\n"
   ]
  },
  {
   "cell_type": "code",
   "execution_count": 2,
   "metadata": {},
   "outputs": [],
   "source": [
    "import warnings\n",
    "warnings.filterwarnings('ignore')"
   ]
  },
  {
   "cell_type": "code",
   "execution_count": 3,
   "metadata": {},
   "outputs": [],
   "source": [
    "import pandas as pd\n",
    "import numpy as np\n",
    "import seaborn as sns\n",
    "import matplotlib.pyplot as plt\n",
    "%matplotlib inline\n",
    "import math\n",
    "import scipy.stats as stats\n"
   ]
  },
  {
   "cell_type": "code",
   "execution_count": 4,
   "metadata": {},
   "outputs": [],
   "source": [
    "import os\n",
    "os.chdir('C:\\\\Users\\\\HP\\\\Desktop\\\\AnalytixLabs\\\\DATA SCIENCE')"
   ]
  },
  {
   "cell_type": "code",
   "execution_count": 5,
   "metadata": {},
   "outputs": [
    {
     "data": {
      "text/html": [
       "<div>\n",
       "<style scoped>\n",
       "    .dataframe tbody tr th:only-of-type {\n",
       "        vertical-align: middle;\n",
       "    }\n",
       "\n",
       "    .dataframe tbody tr th {\n",
       "        vertical-align: top;\n",
       "    }\n",
       "\n",
       "    .dataframe thead th {\n",
       "        text-align: right;\n",
       "    }\n",
       "</style>\n",
       "<table border=\"1\" class=\"dataframe\">\n",
       "  <thead>\n",
       "    <tr style=\"text-align: right;\">\n",
       "      <th></th>\n",
       "      <th>custid</th>\n",
       "      <th>sex</th>\n",
       "      <th>AqChannel</th>\n",
       "      <th>region</th>\n",
       "      <th>Marital_status</th>\n",
       "      <th>segment</th>\n",
       "      <th>pre_usage</th>\n",
       "      <th>Post_usage_1month</th>\n",
       "      <th>Latest_mon_usage</th>\n",
       "      <th>post_usage_2ndmonth</th>\n",
       "    </tr>\n",
       "  </thead>\n",
       "  <tbody>\n",
       "    <tr>\n",
       "      <th>0</th>\n",
       "      <td>70</td>\n",
       "      <td>0</td>\n",
       "      <td>4</td>\n",
       "      <td>1</td>\n",
       "      <td>1</td>\n",
       "      <td>1</td>\n",
       "      <td>57</td>\n",
       "      <td>52</td>\n",
       "      <td>49.2</td>\n",
       "      <td>57.2</td>\n",
       "    </tr>\n",
       "    <tr>\n",
       "      <th>1</th>\n",
       "      <td>121</td>\n",
       "      <td>1</td>\n",
       "      <td>4</td>\n",
       "      <td>2</td>\n",
       "      <td>1</td>\n",
       "      <td>3</td>\n",
       "      <td>68</td>\n",
       "      <td>59</td>\n",
       "      <td>63.6</td>\n",
       "      <td>64.9</td>\n",
       "    </tr>\n",
       "    <tr>\n",
       "      <th>2</th>\n",
       "      <td>86</td>\n",
       "      <td>0</td>\n",
       "      <td>4</td>\n",
       "      <td>3</td>\n",
       "      <td>1</td>\n",
       "      <td>1</td>\n",
       "      <td>44</td>\n",
       "      <td>33</td>\n",
       "      <td>64.8</td>\n",
       "      <td>36.3</td>\n",
       "    </tr>\n",
       "    <tr>\n",
       "      <th>3</th>\n",
       "      <td>141</td>\n",
       "      <td>0</td>\n",
       "      <td>4</td>\n",
       "      <td>3</td>\n",
       "      <td>1</td>\n",
       "      <td>3</td>\n",
       "      <td>63</td>\n",
       "      <td>44</td>\n",
       "      <td>56.4</td>\n",
       "      <td>48.4</td>\n",
       "    </tr>\n",
       "    <tr>\n",
       "      <th>4</th>\n",
       "      <td>172</td>\n",
       "      <td>0</td>\n",
       "      <td>4</td>\n",
       "      <td>2</td>\n",
       "      <td>1</td>\n",
       "      <td>2</td>\n",
       "      <td>47</td>\n",
       "      <td>52</td>\n",
       "      <td>68.4</td>\n",
       "      <td>57.2</td>\n",
       "    </tr>\n",
       "    <tr>\n",
       "      <th>5</th>\n",
       "      <td>113</td>\n",
       "      <td>0</td>\n",
       "      <td>4</td>\n",
       "      <td>2</td>\n",
       "      <td>1</td>\n",
       "      <td>2</td>\n",
       "      <td>44</td>\n",
       "      <td>52</td>\n",
       "      <td>61.2</td>\n",
       "      <td>57.2</td>\n",
       "    </tr>\n",
       "    <tr>\n",
       "      <th>6</th>\n",
       "      <td>50</td>\n",
       "      <td>0</td>\n",
       "      <td>3</td>\n",
       "      <td>2</td>\n",
       "      <td>1</td>\n",
       "      <td>1</td>\n",
       "      <td>50</td>\n",
       "      <td>59</td>\n",
       "      <td>50.4</td>\n",
       "      <td>64.9</td>\n",
       "    </tr>\n",
       "    <tr>\n",
       "      <th>7</th>\n",
       "      <td>11</td>\n",
       "      <td>0</td>\n",
       "      <td>1</td>\n",
       "      <td>2</td>\n",
       "      <td>1</td>\n",
       "      <td>2</td>\n",
       "      <td>34</td>\n",
       "      <td>46</td>\n",
       "      <td>54.0</td>\n",
       "      <td>50.6</td>\n",
       "    </tr>\n",
       "    <tr>\n",
       "      <th>8</th>\n",
       "      <td>84</td>\n",
       "      <td>0</td>\n",
       "      <td>4</td>\n",
       "      <td>2</td>\n",
       "      <td>1</td>\n",
       "      <td>1</td>\n",
       "      <td>63</td>\n",
       "      <td>57</td>\n",
       "      <td>64.8</td>\n",
       "      <td>62.7</td>\n",
       "    </tr>\n",
       "    <tr>\n",
       "      <th>9</th>\n",
       "      <td>48</td>\n",
       "      <td>0</td>\n",
       "      <td>3</td>\n",
       "      <td>2</td>\n",
       "      <td>1</td>\n",
       "      <td>2</td>\n",
       "      <td>57</td>\n",
       "      <td>55</td>\n",
       "      <td>62.4</td>\n",
       "      <td>60.5</td>\n",
       "    </tr>\n",
       "  </tbody>\n",
       "</table>\n",
       "</div>"
      ],
      "text/plain": [
       "   custid  sex  AqChannel  region  Marital_status  segment  pre_usage  \\\n",
       "0      70    0          4       1               1        1         57   \n",
       "1     121    1          4       2               1        3         68   \n",
       "2      86    0          4       3               1        1         44   \n",
       "3     141    0          4       3               1        3         63   \n",
       "4     172    0          4       2               1        2         47   \n",
       "5     113    0          4       2               1        2         44   \n",
       "6      50    0          3       2               1        1         50   \n",
       "7      11    0          1       2               1        2         34   \n",
       "8      84    0          4       2               1        1         63   \n",
       "9      48    0          3       2               1        2         57   \n",
       "\n",
       "   Post_usage_1month  Latest_mon_usage  post_usage_2ndmonth  \n",
       "0                 52              49.2                 57.2  \n",
       "1                 59              63.6                 64.9  \n",
       "2                 33              64.8                 36.3  \n",
       "3                 44              56.4                 48.4  \n",
       "4                 52              68.4                 57.2  \n",
       "5                 52              61.2                 57.2  \n",
       "6                 59              50.4                 64.9  \n",
       "7                 46              54.0                 50.6  \n",
       "8                 57              64.8                 62.7  \n",
       "9                 55              62.4                 60.5  "
      ]
     },
     "execution_count": 5,
     "metadata": {},
     "output_type": "execute_result"
    }
   ],
   "source": [
    "cust_seg=pd.read_csv('5. Statistical Tests Case Study-1\\\\5. Statistical Tests Case Study-1\\\\cust_seg.csv')\n",
    "cust_seg.head(10)"
   ]
  },
  {
   "cell_type": "code",
   "execution_count": 6,
   "metadata": {},
   "outputs": [
    {
     "name": "stdout",
     "output_type": "stream",
     "text": [
      "<class 'pandas.core.frame.DataFrame'>\n",
      "RangeIndex: 200 entries, 0 to 199\n",
      "Data columns (total 10 columns):\n",
      "custid                 200 non-null int64\n",
      "sex                    200 non-null int64\n",
      "AqChannel              200 non-null int64\n",
      "region                 200 non-null int64\n",
      "Marital_status         200 non-null int64\n",
      "segment                200 non-null int64\n",
      "pre_usage              200 non-null int64\n",
      "Post_usage_1month      200 non-null int64\n",
      "Latest_mon_usage       200 non-null float64\n",
      "post_usage_2ndmonth    200 non-null float64\n",
      "dtypes: float64(2), int64(8)\n",
      "memory usage: 15.7 KB\n"
     ]
    }
   ],
   "source": [
    "cust_seg.info()"
   ]
  },
  {
   "cell_type": "code",
   "execution_count": 7,
   "metadata": {},
   "outputs": [],
   "source": [
    "cust_describe=cust_seg.describe().T\n",
    "cust_describe\n",
    "cust_describe.to_excel('cust_describe.xlsx')\n"
   ]
  },
  {
   "cell_type": "code",
   "execution_count": 8,
   "metadata": {
    "scrolled": true
   },
   "outputs": [
    {
     "data": {
      "text/html": [
       "<div>\n",
       "<style scoped>\n",
       "    .dataframe tbody tr th:only-of-type {\n",
       "        vertical-align: middle;\n",
       "    }\n",
       "\n",
       "    .dataframe tbody tr th {\n",
       "        vertical-align: top;\n",
       "    }\n",
       "\n",
       "    .dataframe thead th {\n",
       "        text-align: right;\n",
       "    }\n",
       "</style>\n",
       "<table border=\"1\" class=\"dataframe\">\n",
       "  <thead>\n",
       "    <tr style=\"text-align: right;\">\n",
       "      <th></th>\n",
       "      <th>count</th>\n",
       "      <th>mean</th>\n",
       "      <th>std</th>\n",
       "      <th>min</th>\n",
       "      <th>25%</th>\n",
       "      <th>50%</th>\n",
       "      <th>75%</th>\n",
       "      <th>max</th>\n",
       "    </tr>\n",
       "  </thead>\n",
       "  <tbody>\n",
       "    <tr>\n",
       "      <th>custid</th>\n",
       "      <td>200.0</td>\n",
       "      <td>100.5000</td>\n",
       "      <td>57.879185</td>\n",
       "      <td>1.0</td>\n",
       "      <td>50.750</td>\n",
       "      <td>100.5</td>\n",
       "      <td>150.25</td>\n",
       "      <td>200.0</td>\n",
       "    </tr>\n",
       "    <tr>\n",
       "      <th>sex</th>\n",
       "      <td>200.0</td>\n",
       "      <td>0.5450</td>\n",
       "      <td>0.499220</td>\n",
       "      <td>0.0</td>\n",
       "      <td>0.000</td>\n",
       "      <td>1.0</td>\n",
       "      <td>1.00</td>\n",
       "      <td>1.0</td>\n",
       "    </tr>\n",
       "    <tr>\n",
       "      <th>AqChannel</th>\n",
       "      <td>200.0</td>\n",
       "      <td>3.4300</td>\n",
       "      <td>1.039472</td>\n",
       "      <td>1.0</td>\n",
       "      <td>3.000</td>\n",
       "      <td>4.0</td>\n",
       "      <td>4.00</td>\n",
       "      <td>4.0</td>\n",
       "    </tr>\n",
       "    <tr>\n",
       "      <th>region</th>\n",
       "      <td>200.0</td>\n",
       "      <td>2.0550</td>\n",
       "      <td>0.724291</td>\n",
       "      <td>1.0</td>\n",
       "      <td>2.000</td>\n",
       "      <td>2.0</td>\n",
       "      <td>3.00</td>\n",
       "      <td>3.0</td>\n",
       "    </tr>\n",
       "    <tr>\n",
       "      <th>Marital_status</th>\n",
       "      <td>200.0</td>\n",
       "      <td>1.1600</td>\n",
       "      <td>0.367526</td>\n",
       "      <td>1.0</td>\n",
       "      <td>1.000</td>\n",
       "      <td>1.0</td>\n",
       "      <td>1.00</td>\n",
       "      <td>2.0</td>\n",
       "    </tr>\n",
       "    <tr>\n",
       "      <th>segment</th>\n",
       "      <td>200.0</td>\n",
       "      <td>2.0250</td>\n",
       "      <td>0.690477</td>\n",
       "      <td>1.0</td>\n",
       "      <td>2.000</td>\n",
       "      <td>2.0</td>\n",
       "      <td>2.25</td>\n",
       "      <td>3.0</td>\n",
       "    </tr>\n",
       "    <tr>\n",
       "      <th>pre_usage</th>\n",
       "      <td>200.0</td>\n",
       "      <td>52.2300</td>\n",
       "      <td>10.252937</td>\n",
       "      <td>28.0</td>\n",
       "      <td>44.000</td>\n",
       "      <td>50.0</td>\n",
       "      <td>60.00</td>\n",
       "      <td>76.0</td>\n",
       "    </tr>\n",
       "    <tr>\n",
       "      <th>Post_usage_1month</th>\n",
       "      <td>200.0</td>\n",
       "      <td>52.7750</td>\n",
       "      <td>9.478586</td>\n",
       "      <td>31.0</td>\n",
       "      <td>45.750</td>\n",
       "      <td>54.0</td>\n",
       "      <td>60.00</td>\n",
       "      <td>67.0</td>\n",
       "    </tr>\n",
       "    <tr>\n",
       "      <th>Latest_mon_usage</th>\n",
       "      <td>200.0</td>\n",
       "      <td>63.1740</td>\n",
       "      <td>11.242137</td>\n",
       "      <td>39.6</td>\n",
       "      <td>54.000</td>\n",
       "      <td>62.4</td>\n",
       "      <td>70.80</td>\n",
       "      <td>90.0</td>\n",
       "    </tr>\n",
       "    <tr>\n",
       "      <th>post_usage_2ndmonth</th>\n",
       "      <td>200.0</td>\n",
       "      <td>58.0525</td>\n",
       "      <td>10.426445</td>\n",
       "      <td>34.1</td>\n",
       "      <td>50.325</td>\n",
       "      <td>59.4</td>\n",
       "      <td>66.00</td>\n",
       "      <td>73.7</td>\n",
       "    </tr>\n",
       "  </tbody>\n",
       "</table>\n",
       "</div>"
      ],
      "text/plain": [
       "                     count      mean        std   min     25%    50%     75%  \\\n",
       "custid               200.0  100.5000  57.879185   1.0  50.750  100.5  150.25   \n",
       "sex                  200.0    0.5450   0.499220   0.0   0.000    1.0    1.00   \n",
       "AqChannel            200.0    3.4300   1.039472   1.0   3.000    4.0    4.00   \n",
       "region               200.0    2.0550   0.724291   1.0   2.000    2.0    3.00   \n",
       "Marital_status       200.0    1.1600   0.367526   1.0   1.000    1.0    1.00   \n",
       "segment              200.0    2.0250   0.690477   1.0   2.000    2.0    2.25   \n",
       "pre_usage            200.0   52.2300  10.252937  28.0  44.000   50.0   60.00   \n",
       "Post_usage_1month    200.0   52.7750   9.478586  31.0  45.750   54.0   60.00   \n",
       "Latest_mon_usage     200.0   63.1740  11.242137  39.6  54.000   62.4   70.80   \n",
       "post_usage_2ndmonth  200.0   58.0525  10.426445  34.1  50.325   59.4   66.00   \n",
       "\n",
       "                       max  \n",
       "custid               200.0  \n",
       "sex                    1.0  \n",
       "AqChannel              4.0  \n",
       "region                 3.0  \n",
       "Marital_status         2.0  \n",
       "segment                3.0  \n",
       "pre_usage             76.0  \n",
       "Post_usage_1month     67.0  \n",
       "Latest_mon_usage      90.0  \n",
       "post_usage_2ndmonth   73.7  "
      ]
     },
     "execution_count": 8,
     "metadata": {},
     "output_type": "execute_result"
    }
   ],
   "source": [
    "cust_describe"
   ]
  },
  {
   "cell_type": "markdown",
   "metadata": {},
   "source": [
    "## 1 :  Card usage has been improved significantly from last year usage which is 50."
   ]
  },
  {
   "cell_type": "code",
   "execution_count": 9,
   "metadata": {},
   "outputs": [],
   "source": [
    "#the null hypothesis is :         Ho=50\n",
    "# and Alternative Hypothesis is : H1#50\n"
   ]
  },
  {
   "cell_type": "code",
   "execution_count": 10,
   "metadata": {},
   "outputs": [
    {
     "data": {
      "text/plain": [
       "<matplotlib.axes._subplots.AxesSubplot at 0x25e39eda780>"
      ]
     },
     "execution_count": 10,
     "metadata": {},
     "output_type": "execute_result"
    },
    {
     "data": {
      "image/png": "[encoded data removed]",
      "text/plain": [
       "<Figure size 432x288 with 1 Axes>"
      ]
     },
     "metadata": {
      "needs_background": "light"
     },
     "output_type": "display_data"
    }
   ],
   "source": [
    "# Latest month usage data is normally distributed\n",
    "sns.distplot(cust_seg.Latest_mon_usage)"
   ]
  },
  {
   "cell_type": "code",
   "execution_count": 11,
   "metadata": {},
   "outputs": [
    {
     "data": {
      "text/plain": [
       "Ttest_1sampResult(statistic=16.57233752433133, pvalue=2.4963719280931583e-39)"
      ]
     },
     "execution_count": 11,
     "metadata": {},
     "output_type": "execute_result"
    }
   ],
   "source": [
    "# Using one sample T test  \n",
    "stats.ttest_1samp(a=cust_seg.Latest_mon_usage,popmean=50)"
   ]
  },
  {
   "cell_type": "raw",
   "metadata": {},
   "source": [
    "From the above result\n",
    "P value is less than 0.05 \n",
    "it means we have more evidence(high significance level) to reject the null hypothesis\n",
    "=> we reject the Ho.\n",
    "\n",
    "it means that Card usage is improve ."
   ]
  },
  {
   "cell_type": "code",
   "execution_count": 12,
   "metadata": {},
   "outputs": [
    {
     "data": {
      "text/plain": [
       "63.17400000000001"
      ]
     },
     "execution_count": 12,
     "metadata": {},
     "output_type": "execute_result"
    }
   ],
   "source": [
    "cust_seg.Latest_mon_usage.mean()"
   ]
  },
  {
   "cell_type": "markdown",
   "metadata": {},
   "source": [
    "## 2 :  The last compaign was successful in terms of credit card."
   ]
  },
  {
   "cell_type": "code",
   "execution_count": 13,
   "metadata": {},
   "outputs": [
    {
     "data": {
      "text/plain": [
       "Ttest_relResult(statistic=-0.8673065458794775, pvalue=0.3868186820914985)"
      ]
     },
     "execution_count": 13,
     "metadata": {},
     "output_type": "execute_result"
    }
   ],
   "source": [
    "# Here we are compair two poputation so we want use paired sample t test between post month usage \n",
    "# and pre month usage.\n",
    "# Ho = H1  (Null hypo. it means there is no significant improvement)\n",
    "# Ho # H1  (Alternate Hypot it means there are significant improvement in the card usage) \n",
    "\n",
    "# (a=pre_usage,b=Post 1 month usage)\n",
    "stats.ttest_rel(a=cust_seg.pre_usage,b=cust_seg.Post_usage_1month)"
   ]
  },
  {
   "cell_type": "code",
   "execution_count": 14,
   "metadata": {},
   "outputs": [
    {
     "data": {
      "text/plain": [
       "Ttest_relResult(statistic=-8.866832246938742, pvalue=4.295733828012836e-16)"
      ]
     },
     "execution_count": 14,
     "metadata": {},
     "output_type": "execute_result"
    }
   ],
   "source": [
    "#(a=pre_usage,b=Post 2 month usage)\n",
    "stats.ttest_rel(a=cust_seg.pre_usage,b=cust_seg.post_usage_2ndmonth)"
   ]
  },
  {
   "cell_type": "raw",
   "metadata": {},
   "source": [
    "calculated p value =0.386( it means confidence level > 95%) and actual p value =0.05 (confidence level=95%)\n",
    "So, we have more evidence for reject the null hypothesis\n",
    "=> Ho is rejected\n",
    "it means that,\n",
    "last campaign was successful in the term of credit card usage. "
   ]
  },
  {
   "cell_type": "code",
   "execution_count": 15,
   "metadata": {},
   "outputs": [
    {
     "data": {
      "text/plain": [
       "<matplotlib.axes._subplots.AxesSubplot at 0x25e3a1e5b70>"
      ]
     },
     "execution_count": 15,
     "metadata": {},
     "output_type": "execute_result"
    },
    {
     "data": {
      "image/png": "[encoded data removed]",
      "text/plain": [
       "<Figure size 432x288 with 1 Axes>"
      ]
     },
     "metadata": {
      "needs_background": "light"
     },
     "output_type": "display_data"
    }
   ],
   "source": [
    "\n",
    "sns.distplot(cust_seg.post_usage_2ndmonth,kde_kws={\"color\": \"r\", \"label\": \"2 month\"})\n",
    "sns.distplot(cust_seg.Post_usage_1month,kde_kws={\"color\": \"b\", \"label\": \"1 month\"})\n"
   ]
  },
  {
   "cell_type": "markdown",
   "metadata": {},
   "source": [
    "## 3:   Is there any difference between males and females in term of credit usage."
   ]
  },
  {
   "cell_type": "code",
   "execution_count": 16,
   "metadata": {},
   "outputs": [
    {
     "data": {
      "text/plain": [
       "Ttest_indResult(statistic=-3.6564080478875276, pvalue=0.00034088493594266187)"
      ]
     },
     "execution_count": 16,
     "metadata": {},
     "output_type": "execute_result"
    }
   ],
   "source": [
    "# Ho = H1 ( mean of males usage is equal to the mean of females usage)\n",
    "# ho # h1 ( mean of males usage is not equal to the mean of females usages)\n",
    "Males_spend=cust_seg.Post_usage_1month[cust_seg.sex==0]\n",
    "Females_spend=cust_seg.Post_usage_1month[cust_seg.sex==1]\n",
    "# here i am using t test (independent sample t test)\n",
    "stats.ttest_ind(a=Males_spend,b=Females_spend,equal_var=False) # Assume sample have unequal variance\n"
   ]
  },
  {
   "cell_type": "code",
   "execution_count": 18,
   "metadata": {},
   "outputs": [
    {
     "data": {
      "text/plain": [
       "Ttest_indResult(statistic=-3.7340738531536797, pvalue=0.00024625461203549315)"
      ]
     },
     "execution_count": 18,
     "metadata": {},
     "output_type": "execute_result"
    }
   ],
   "source": [
    "stats.ttest_ind(a=Males_spend,b=Females_spend,equal_var=True) #Assume sample have equal variance"
   ]
  },
  {
   "cell_type": "raw",
   "metadata": {},
   "source": [
    "From the above result,\n",
    "H calculated p value < 0.05 \n",
    "it means we hav more evidence for reject the null hypothesis\n",
    "=> Ho is rejected.\n",
    "\n",
    "i can say that male usage is independent to the females usage.\n"
   ]
  },
  {
   "cell_type": "markdown",
   "metadata": {},
   "source": [
    "## 4  :    Is there any difference between segments of customers in term of credit card usage."
   ]
  },
  {
   "cell_type": "code",
   "execution_count": 20,
   "metadata": {},
   "outputs": [
    {
     "data": {
      "text/plain": [
       "F_onewayResult(statistic=29.279283801321778, pvalue=7.36401083352674e-12)"
      ]
     },
     "execution_count": 20,
     "metadata": {},
     "output_type": "execute_result"
    }
   ],
   "source": [
    "# Ho =there is no any difference between segments of cust in term of card usage\n",
    "# H1= there is difference between segment of cust. in term of card usage\n",
    "\n",
    "s1=cust_seg.Latest_mon_usage[cust_seg.segment==1]\n",
    "s2=cust_seg.Latest_mon_usage[cust_seg.segment==2]\n",
    "s3=cust_seg.Latest_mon_usage[cust_seg.segment==3]\n",
    "\n",
    "#number of catagorical variable is greater then 2 therefore, i am using ANOVA test\n",
    "stats.f_oneway(s1,s2,s3)"
   ]
  },
  {
   "cell_type": "raw",
   "metadata": {},
   "source": [
    "from the above result ,\n",
    "p value is less than 0.05\n",
    "=>Ho is rejected (beacause i have more evidence (confidence level  >95%) for reject the null hypothesis\n",
    "It means that, \n",
    "There are Difference between segment of customer and credit card usages."
   ]
  },
  {
   "cell_type": "code",
   "execution_count": 28,
   "metadata": {},
   "outputs": [
    {
     "data": {
      "text/plain": [
       "Text(0.5,1,'Count of each segment')"
      ]
     },
     "execution_count": 28,
     "metadata": {},
     "output_type": "execute_result"
    },
    {
     "data": {
      "image/png": "[encoded data removed]",
      "text/plain": [
       "<Figure size 432x288 with 1 Axes>"
      ]
     },
     "metadata": {},
     "output_type": "display_data"
    }
   ],
   "source": [
    "cust_seg.groupby(\"segment\").Post_usage_1month.count().plot(kind=\"pie\",shadow=True, autopct='%1.1f%%');\n",
    "\n",
    "plt.title(\"Count of each segment\")"
   ]
  },
  {
   "cell_type": "markdown",
   "metadata": {},
   "source": [
    "## 5 :    Is there any relation between region & segment ."
   ]
  },
  {
   "cell_type": "code",
   "execution_count": 36,
   "metadata": {},
   "outputs": [
    {
     "name": "stdout",
     "output_type": "stream",
     "text": [
      "region    1   2   3  All\n",
      "segment                 \n",
      "1        16  20   9   45\n",
      "2        19  44  42  105\n",
      "3        12  31   7   50\n",
      "All      47  95  58  200\n"
     ]
    },
    {
     "data": {
      "text/plain": [
       "(16.60444164948934,\n",
       " 0.055282939487992365,\n",
       " 9,\n",
       " array([[ 10.575,  21.375,  13.05 ,  45.   ],\n",
       "        [ 24.675,  49.875,  30.45 , 105.   ],\n",
       "        [ 11.75 ,  23.75 ,  14.5  ,  50.   ],\n",
       "        [ 47.   ,  95.   ,  58.   , 200.   ]]))"
      ]
     },
     "execution_count": 36,
     "metadata": {},
     "output_type": "execute_result"
    }
   ],
   "source": [
    "# Ho=there are  reation between region and segment\n",
    "# H1=there are no relation between region and segment\n",
    "\n",
    "# here we are check for of independence. therefore, i am using Chi Square test.\n",
    "\n",
    "M=pd.crosstab(cust_seg.segment,cust_seg.region,margins=True)\n",
    "print(M)\n",
    "stats.chi2_contingency(observed=M)\n",
    "\n"
   ]
  },
  {
   "cell_type": "raw",
   "metadata": {},
   "source": [
    "Here calculated p value is Higher than 0.0500 \n",
    "=> Ho is accepted (Because i have less evidence to reject the Ho  )\n",
    "From the above result i can say that there are relation between segment and region"
   ]
  },
  {
   "cell_type": "markdown",
   "metadata": {},
   "source": [
    "## 6:  Is the relationship between card usage in the latest month and pre usage of compaign"
   ]
  },
  {
   "cell_type": "code",
   "execution_count": 43,
   "metadata": {},
   "outputs": [
    {
     "data": {
      "text/plain": [
       "<matplotlib.axes._subplots.AxesSubplot at 0x23c402a6518>"
      ]
     },
     "execution_count": 43,
     "metadata": {},
     "output_type": "execute_result"
    },
    {
     "data": {
      "image/png": "[encoded data removed]",
      "text/plain": [
       "<Figure size 432x288 with 2 Axes>"
      ]
     },
     "metadata": {
      "needs_background": "light"
     },
     "output_type": "display_data"
    }
   ],
   "source": [
    "# Here we are finding the relation between two variable therefore, i will go for Correlation \n",
    "sns.heatmap(np.corrcoef(cust_seg.Latest_mon_usage,cust_seg.pre_usage),annot=True)"
   ]
  },
  {
   "cell_type": "raw",
   "metadata": {},
   "source": [
    "So there are NO any relation between Latest month usage and post_usage "
   ]
  }
 ],
 "metadata": {
  "kernelspec": {
   "display_name": "Python 3",
   "language": "python",
   "name": "python3"
  },
  "language_info": {
   "codemirror_mode": {
    "name": "ipython",
    "version": 3
   },
   "file_extension": ".py",
   "mimetype": "text/x-python",
   "name": "python",
   "nbconvert_exporter": "python",
   "pygments_lexer": "ipython3",
   "version": "3.7.0"
  }
 },
 "nbformat": 4,
 "nbformat_minor": 2
}
